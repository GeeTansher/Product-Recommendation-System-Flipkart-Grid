{
 "cells": [
  {
   "cell_type": "code",
   "execution_count": 1,
   "metadata": {},
   "outputs": [],
   "source": [
    "import numpy as np\n",
    "import pandas as pd\n",
    "import tensorflow as tf\n",
    "from tensorflow.keras.layers import Input, Embedding, Flatten, Concatenate, Dense\n",
    "from tensorflow.keras.models import Model\n",
    "from sklearn.model_selection import train_test_split\n",
    "from sklearn.preprocessing import LabelEncoder"
   ]
  },
  {
   "cell_type": "code",
   "execution_count": 3,
   "metadata": {},
   "outputs": [],
   "source": [
    "from numpy import loadtxt\n",
    "from tensorflow.keras.models import load_model\n",
    " \n",
    "# load model\n",
    "model = load_model('Models\\WholeDatasetModel.h5')"
   ]
  },
  {
   "cell_type": "code",
   "execution_count": 2,
   "metadata": {},
   "outputs": [],
   "source": [
    "df = pd.read_csv('Dataset\\Dataset.csv')"
   ]
  },
  {
   "cell_type": "code",
   "execution_count": 5,
   "metadata": {},
   "outputs": [],
   "source": [
    "item_encoder = LabelEncoder()\n",
    "df['items'] = item_encoder.fit_transform(df['product_id'])"
   ]
  },
  {
   "cell_type": "code",
   "execution_count": 6,
   "metadata": {},
   "outputs": [
    {
     "ename": "NameError",
     "evalue": "name 'items' is not defined",
     "output_type": "error",
     "traceback": [
      "\u001b[1;31m---------------------------------------------------------------------------\u001b[0m",
      "\u001b[1;31mNameError\u001b[0m                                 Traceback (most recent call last)",
      "Cell \u001b[1;32mIn[6], line 13\u001b[0m\n\u001b[0;32m     10\u001b[0m user_encoder\u001b[38;5;241m.\u001b[39mfit([target_user_id])\n\u001b[0;32m     12\u001b[0m \u001b[38;5;66;03m# Create a dictionary to map original item IDs to numeric encodings\u001b[39;00m\n\u001b[1;32m---> 13\u001b[0m item_mapping \u001b[38;5;241m=\u001b[39m {item: index \u001b[38;5;28;01mfor\u001b[39;00m index, item \u001b[38;5;129;01min\u001b[39;00m \u001b[38;5;28menumerate\u001b[39m(\u001b[43mitems\u001b[49m)}\n\u001b[0;32m     15\u001b[0m \u001b[38;5;66;03m# Create an inverse mapping to retrieve original item IDs from numeric encodings\u001b[39;00m\n\u001b[0;32m     16\u001b[0m inverse_item_mapping \u001b[38;5;241m=\u001b[39m {index: item \u001b[38;5;28;01mfor\u001b[39;00m item, index \u001b[38;5;129;01min\u001b[39;00m item_mapping\u001b[38;5;241m.\u001b[39mitems()}\n",
      "\u001b[1;31mNameError\u001b[0m: name 'items' is not defined"
     ]
    }
   ],
   "source": [
    "# Example user and item data\n",
    "target_user_id = 111384\n",
    "\n",
    "# Assuming df is your DataFrame containing item data\n",
    "\n",
    "\n",
    "\n",
    "# Create and fit the user encoder\n",
    "user_encoder = LabelEncoder()\n",
    "user_encoder.fit([target_user_id])\n",
    "\n",
    "# Create a dictionary to map original item IDs to numeric encodings\n",
    "item_mapping = {item: index for index, item in enumerate(items)}\n",
    "\n",
    "# Create an inverse mapping to retrieve original item IDs from numeric encodings\n",
    "inverse_item_mapping = {index: item for item, index in item_mapping.items()}\n",
    "\n",
    "# Encode the user ID\n",
    "encoded_user_id = user_encoder.transform([target_user_id])[0]\n",
    "\n",
    "# Encode all items\n",
    "encoded_item_ids = np.array([item_mapping[item] for item in items])\n",
    "\n",
    "# Simulated model predictions (replace this with your actual model)\n",
    "num_users = 1\n",
    "num_items = len(items)\n",
    "model_predictions = np.random.rand(num_users, num_items)\n",
    "\n",
    "# Predict ratings for the chosen user and all items\n",
    "user_ids = np.full(num_items, encoded_user_id)\n",
    "predictions = model_predictions[encoded_user_id]\n",
    "\n",
    "# Get top N recommendations\n",
    "N = 7 # Number of recommendations you want to provide\n",
    "recommended_item_indices = predictions.argsort()[::-1][:N]"
   ]
  },
  {
   "cell_type": "code",
   "execution_count": null,
   "metadata": {},
   "outputs": [],
   "source": [
    "# Recommendations according to its rating user-->\n",
    "\n",
    "# Make predictions\n",
    "predictions = model.predict([test_data['user'], test_data['item']])\n",
    "\n",
    "# Convert predictions back to original ratings\n",
    "predictions = np.clip(predictions, 1, 5)  # Clip predictions to rating range\n",
    "\n",
    "# Map encoded user and item IDs back to their original values\n",
    "decoded_users = user_encoder.inverse_transform(test_data['user'])\n",
    "decoded_items = item_encoder.inverse_transform(test_data['item'])\n",
    "\n",
    "# Create a dictionary to store user recommendations\n",
    "user_recommendations = {}\n",
    "\n",
    "# Populate user recommendations\n",
    "for i in range(len(test_data)):\n",
    "    user_id = decoded_users[i]\n",
    "    item_id = decoded_items[i]\n",
    "    predicted_rating = predictions[i][0]\n",
    "    \n",
    "    if user_id not in user_recommendations:\n",
    "        user_recommendations[user_id] = []\n",
    "    \n",
    "    user_recommendations[user_id].append((item_id, predicted_rating))\n",
    "\n",
    "# Sort recommended items for each user by predicted rating\n",
    "for user_id, recommendations in user_recommendations.items():\n",
    "    recommendations.sort(key=lambda x: x[1], reverse=True)\n",
    "\n",
    "# Print top N recommendations for each user\n",
    "top_n = 5  # Number of top recommendations to show\n",
    "for user_id, recommendations in user_recommendations.items():\n",
    "    print(f\"User ID: {user_id}\")\n",
    "    num_recommendations = min(len(recommendations), top_n)  # Ensure not to go out of index\n",
    "    for i in range(num_recommendations):\n",
    "        item_id, predicted_rating = recommendations[i]\n",
    "        print(f\"  Recommendation {i + 1}: Item ID: {item_id}, Predicted Rating: {predicted_rating:.2f}\")\n"
   ]
  },
  {
   "cell_type": "code",
   "execution_count": null,
   "metadata": {},
   "outputs": [],
   "source": [
    "decoded_items = item_encoder.inverse_transform(df['items'])\n",
    "\n",
    "\n",
    "# Display recommendations for the target user\n",
    "print(f\"Top {N} recommended products for User {target_user_id}:\")\n",
    "for index in recommended_item_indices:\n",
    "    recommended_item_id = decoded_items[index]\n",
    "    print(f\"  Recommendation: Product ID: {recommended_item_id}\")"
   ]
  }
 ],
 "metadata": {
  "kernelspec": {
   "display_name": "Python 3",
   "language": "python",
   "name": "python3"
  },
  "language_info": {
   "codemirror_mode": {
    "name": "ipython",
    "version": 3
   },
   "file_extension": ".py",
   "mimetype": "text/x-python",
   "name": "python",
   "nbconvert_exporter": "python",
   "pygments_lexer": "ipython3",
   "version": "3.11.3"
  },
  "orig_nbformat": 4
 },
 "nbformat": 4,
 "nbformat_minor": 2
}
