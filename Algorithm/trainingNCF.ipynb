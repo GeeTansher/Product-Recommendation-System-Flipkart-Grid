{
 "cells": [
  {
   "cell_type": "code",
   "execution_count": 1,
   "id": "a75662a8",
   "metadata": {
    "_cell_guid": "b1076dfc-b9ad-4769-8c92-a6c4dae69d19",
    "_uuid": "8f2839f25d086af736a60e9eeb907d3b93b6e0e5",
    "execution": {
     "iopub.execute_input": "2023-08-17T00:24:29.277549Z",
     "iopub.status.busy": "2023-08-17T00:24:29.276453Z",
     "iopub.status.idle": "2023-08-17T00:24:29.311335Z",
     "shell.execute_reply": "2023-08-17T00:24:29.310245Z"
    },
    "papermill": {
     "duration": 0.04714,
     "end_time": "2023-08-17T00:24:29.313415",
     "exception": false,
     "start_time": "2023-08-17T00:24:29.266275",
     "status": "completed"
    },
    "scrolled": true,
    "tags": []
   },
   "outputs": [
    {
     "name": "stdout",
     "output_type": "stream",
     "text": [
      "/kaggle/input/sahildataset/AmazonSalesDataset.xlsx\n",
      "/kaggle/input/grid-datasets/Luggage.csv\n",
      "/kaggle/input/grid-datasets/Shoes.csv\n",
      "/kaggle/input/grid-datasets/Beauty.csv\n",
      "/kaggle/input/grid-datasets/Jewelry.csv\n",
      "/kaggle/input/grid-datasets/Apparel.csv\n",
      "/kaggle/input/grid-datasets/Watches.csv\n",
      "/kaggle/input/grid-datasets/GiftCard.csv\n",
      "/kaggle/input/grid-datasets/Dataset.csv\n",
      "/kaggle/input/augmenteddataset2/NewMJ.csv\n",
      "/kaggle/input/augmenteddataset/NewMGF.csv\n"
     ]
    }
   ],
   "source": [
    "# This Python 3 environment comes with many helpful analytics libraries installed\n",
    "# It is defined by the kaggle/python Docker image: https://github.com/kaggle/docker-python\n",
    "# For example, here's several helpful packages to load\n",
    "\n",
    "import numpy as np # linear algebra\n",
    "import pandas as pd # data processing, CSV file I/O (e.g. pd.read_csv)\n",
    "\n",
    "# Input data files are available in the read-only \"../input/\" directory\n",
    "# For example, running this (by clicking run or pressing Shift+Enter) will list all files under the input directory\n",
    "\n",
    "import os\n",
    "for dirname, _, filenames in os.walk('/kaggle/input'):\n",
    "    for filename in filenames:\n",
    "        print(os.path.join(dirname, filename))\n",
    "\n",
    "# You can write up to 20GB to the current directory (/kaggle/working/) that gets preserved as output when you create a version using \"Save & Run All\" \n",
    "# You can also write temporary files to /kaggle/temp/, but they won't be saved outside of the current session"
   ]
  },
  {
   "cell_type": "code",
   "execution_count": 2,
   "id": "a8041157",
   "metadata": {
    "execution": {
     "iopub.execute_input": "2023-08-17T00:24:29.331281Z",
     "iopub.status.busy": "2023-08-17T00:24:29.330987Z",
     "iopub.status.idle": "2023-08-17T00:24:38.393553Z",
     "shell.execute_reply": "2023-08-17T00:24:38.392558Z"
    },
    "papermill": {
     "duration": 9.074172,
     "end_time": "2023-08-17T00:24:38.395954",
     "exception": false,
     "start_time": "2023-08-17T00:24:29.321782",
     "status": "completed"
    },
    "tags": []
   },
   "outputs": [
    {
     "name": "stderr",
     "output_type": "stream",
     "text": [
      "/opt/conda/lib/python3.10/site-packages/scipy/__init__.py:146: UserWarning: A NumPy version >=1.16.5 and <1.23.0 is required for this version of SciPy (detected version 1.23.5\n",
      "  warnings.warn(f\"A NumPy version >={np_minversion} and <{np_maxversion}\"\n",
      "/opt/conda/lib/python3.10/site-packages/tensorflow_io/python/ops/__init__.py:98: UserWarning: unable to load libtensorflow_io_plugins.so: unable to open file: libtensorflow_io_plugins.so, from paths: ['/opt/conda/lib/python3.10/site-packages/tensorflow_io/python/ops/libtensorflow_io_plugins.so']\n",
      "caused by: ['/opt/conda/lib/python3.10/site-packages/tensorflow_io/python/ops/libtensorflow_io_plugins.so: undefined symbol: _ZN3tsl6StatusC1EN10tensorflow5error4CodeESt17basic_string_viewIcSt11char_traitsIcEENS_14SourceLocationE']\n",
      "  warnings.warn(f\"unable to load libtensorflow_io_plugins.so: {e}\")\n",
      "/opt/conda/lib/python3.10/site-packages/tensorflow_io/python/ops/__init__.py:104: UserWarning: file system plugins are not loaded: unable to open file: libtensorflow_io.so, from paths: ['/opt/conda/lib/python3.10/site-packages/tensorflow_io/python/ops/libtensorflow_io.so']\n",
      "caused by: ['/opt/conda/lib/python3.10/site-packages/tensorflow_io/python/ops/libtensorflow_io.so: undefined symbol: _ZTVN10tensorflow13GcsFileSystemE']\n",
      "  warnings.warn(f\"file system plugins are not loaded: {e}\")\n"
     ]
    }
   ],
   "source": [
    "import numpy as np\n",
    "import pandas as pd\n",
    "import tensorflow as tf\n",
    "from tensorflow.keras.layers import Input, Embedding, Flatten, Concatenate, Dense\n",
    "from tensorflow.keras.models import Model\n",
    "from sklearn.model_selection import train_test_split\n",
    "from sklearn.preprocessing import LabelEncoder"
   ]
  },
  {
   "cell_type": "code",
   "execution_count": 3,
   "id": "d7a55aec",
   "metadata": {
    "execution": {
     "iopub.execute_input": "2023-08-17T00:24:38.415103Z",
     "iopub.status.busy": "2023-08-17T00:24:38.413930Z",
     "iopub.status.idle": "2023-08-17T00:24:38.435016Z",
     "shell.execute_reply": "2023-08-17T00:24:38.434102Z"
    },
    "papermill": {
     "duration": 0.032386,
     "end_time": "2023-08-17T00:24:38.437023",
     "exception": false,
     "start_time": "2023-08-17T00:24:38.404637",
     "status": "completed"
    },
    "tags": []
   },
   "outputs": [],
   "source": [
    "df = pd.read_csv('/kaggle/input/augmenteddataset2/NewMJ.csv')"
   ]
  },
  {
   "cell_type": "code",
   "execution_count": 4,
   "id": "873698a8",
   "metadata": {
    "execution": {
     "iopub.execute_input": "2023-08-17T00:24:38.455170Z",
     "iopub.status.busy": "2023-08-17T00:24:38.454883Z",
     "iopub.status.idle": "2023-08-17T00:24:38.462084Z",
     "shell.execute_reply": "2023-08-17T00:24:38.461201Z"
    },
    "papermill": {
     "duration": 0.018852,
     "end_time": "2023-08-17T00:24:38.464186",
     "exception": false,
     "start_time": "2023-08-17T00:24:38.445334",
     "status": "completed"
    },
    "tags": []
   },
   "outputs": [
    {
     "data": {
      "text/plain": [
       "Index(['customer_id', 'product_id', 'product_title', 'product_category',\n",
       "       'rating', 'review_date'],\n",
       "      dtype='object')"
      ]
     },
     "execution_count": 4,
     "metadata": {},
     "output_type": "execute_result"
    }
   ],
   "source": [
    "df.columns"
   ]
  },
  {
   "cell_type": "code",
   "execution_count": 5,
   "id": "c04cc435",
   "metadata": {
    "execution": {
     "iopub.execute_input": "2023-08-17T00:24:38.482284Z",
     "iopub.status.busy": "2023-08-17T00:24:38.482010Z",
     "iopub.status.idle": "2023-08-17T00:24:38.493554Z",
     "shell.execute_reply": "2023-08-17T00:24:38.492480Z"
    },
    "papermill": {
     "duration": 0.023172,
     "end_time": "2023-08-17T00:24:38.495719",
     "exception": false,
     "start_time": "2023-08-17T00:24:38.472547",
     "status": "completed"
    },
    "tags": []
   },
   "outputs": [
    {
     "data": {
      "text/plain": [
       "<bound method Series.unique of 0       Jewelry\n",
       "1       Jewelry\n",
       "2       Jewelry\n",
       "3       Jewelry\n",
       "4       Jewelry\n",
       "         ...   \n",
       "1189    Jewelry\n",
       "1190    Jewelry\n",
       "1191    Jewelry\n",
       "1192    Jewelry\n",
       "1193    Jewelry\n",
       "Name: product_category, Length: 1194, dtype: object>"
      ]
     },
     "execution_count": 5,
     "metadata": {},
     "output_type": "execute_result"
    }
   ],
   "source": [
    "df['product_category'].unique"
   ]
  },
  {
   "cell_type": "code",
   "execution_count": 6,
   "id": "a0e8e063",
   "metadata": {
    "execution": {
     "iopub.execute_input": "2023-08-17T00:24:38.513949Z",
     "iopub.status.busy": "2023-08-17T00:24:38.513686Z",
     "iopub.status.idle": "2023-08-17T00:24:38.528545Z",
     "shell.execute_reply": "2023-08-17T00:24:38.527540Z"
    },
    "papermill": {
     "duration": 0.02652,
     "end_time": "2023-08-17T00:24:38.530700",
     "exception": false,
     "start_time": "2023-08-17T00:24:38.504180",
     "status": "completed"
    },
    "tags": []
   },
   "outputs": [
    {
     "data": {
      "text/html": [
       "<div>\n",
       "<style scoped>\n",
       "    .dataframe tbody tr th:only-of-type {\n",
       "        vertical-align: middle;\n",
       "    }\n",
       "\n",
       "    .dataframe tbody tr th {\n",
       "        vertical-align: top;\n",
       "    }\n",
       "\n",
       "    .dataframe thead th {\n",
       "        text-align: right;\n",
       "    }\n",
       "</style>\n",
       "<table border=\"1\" class=\"dataframe\">\n",
       "  <thead>\n",
       "    <tr style=\"text-align: right;\">\n",
       "      <th></th>\n",
       "      <th>customer_id</th>\n",
       "      <th>product_id</th>\n",
       "      <th>product_title</th>\n",
       "      <th>product_category</th>\n",
       "      <th>rating</th>\n",
       "      <th>review_date</th>\n",
       "    </tr>\n",
       "  </thead>\n",
       "  <tbody>\n",
       "    <tr>\n",
       "      <th>0</th>\n",
       "      <td>50423057</td>\n",
       "      <td>B00JWXFDMG</td>\n",
       "      <td>Everbling Purple and Clear Briolette Drop Swar...</td>\n",
       "      <td>Jewelry</td>\n",
       "      <td>5</td>\n",
       "      <td>31-08-2015</td>\n",
       "    </tr>\n",
       "    <tr>\n",
       "      <th>1</th>\n",
       "      <td>50423057</td>\n",
       "      <td>B00JWXFDMG</td>\n",
       "      <td>Everbling Purple and Clear Briolette Drop Swar...</td>\n",
       "      <td>Jewelry</td>\n",
       "      <td>5</td>\n",
       "      <td>31-08-2015</td>\n",
       "    </tr>\n",
       "    <tr>\n",
       "      <th>2</th>\n",
       "      <td>33684654</td>\n",
       "      <td>B00VLMW18K</td>\n",
       "      <td>Scheppend Polymer Clay Cute Cartoon Fox Handma...</td>\n",
       "      <td>Jewelry</td>\n",
       "      <td>4</td>\n",
       "      <td>31-08-2015</td>\n",
       "    </tr>\n",
       "    <tr>\n",
       "      <th>3</th>\n",
       "      <td>33684654</td>\n",
       "      <td>B00VLMW18K</td>\n",
       "      <td>Scheppend Polymer Clay Cute Cartoon Fox Handma...</td>\n",
       "      <td>Jewelry</td>\n",
       "      <td>4</td>\n",
       "      <td>31-08-2015</td>\n",
       "    </tr>\n",
       "    <tr>\n",
       "      <th>4</th>\n",
       "      <td>11262325</td>\n",
       "      <td>B00W5T1H9W</td>\n",
       "      <td>925 Sterling Silver Finish 6ct Simulated Diamo...</td>\n",
       "      <td>Jewelry</td>\n",
       "      <td>5</td>\n",
       "      <td>31-08-2015</td>\n",
       "    </tr>\n",
       "    <tr>\n",
       "      <th>5</th>\n",
       "      <td>11262325</td>\n",
       "      <td>B00W5T1H9W</td>\n",
       "      <td>925 Sterling Silver Finish 6ct Simulated Diamo...</td>\n",
       "      <td>Jewelry</td>\n",
       "      <td>5</td>\n",
       "      <td>31-08-2015</td>\n",
       "    </tr>\n",
       "    <tr>\n",
       "      <th>6</th>\n",
       "      <td>41583822</td>\n",
       "      <td>B00UMGXJJQ</td>\n",
       "      <td>Claire's Accessories Girls Gold Chain Link Str...</td>\n",
       "      <td>Jewelry</td>\n",
       "      <td>5</td>\n",
       "      <td>31-08-2015</td>\n",
       "    </tr>\n",
       "    <tr>\n",
       "      <th>7</th>\n",
       "      <td>41583822</td>\n",
       "      <td>B00UMGXJJQ</td>\n",
       "      <td>Claire's Accessories Girls Gold Chain Link Str...</td>\n",
       "      <td>Jewelry</td>\n",
       "      <td>5</td>\n",
       "      <td>31-08-2015</td>\n",
       "    </tr>\n",
       "    <tr>\n",
       "      <th>8</th>\n",
       "      <td>27541121</td>\n",
       "      <td>B00M2L6KFY</td>\n",
       "      <td>Sterling Silver Circle \"Friends Forever\" Infin...</td>\n",
       "      <td>Jewelry</td>\n",
       "      <td>5</td>\n",
       "      <td>31-08-2015</td>\n",
       "    </tr>\n",
       "    <tr>\n",
       "      <th>9</th>\n",
       "      <td>27541121</td>\n",
       "      <td>B00M2L6KFY</td>\n",
       "      <td>Sterling Silver Circle \"Friends Forever\" Infin...</td>\n",
       "      <td>Jewelry</td>\n",
       "      <td>5</td>\n",
       "      <td>31-08-2015</td>\n",
       "    </tr>\n",
       "  </tbody>\n",
       "</table>\n",
       "</div>"
      ],
      "text/plain": [
       "   customer_id  product_id                                      product_title  \\\n",
       "0     50423057  B00JWXFDMG  Everbling Purple and Clear Briolette Drop Swar...   \n",
       "1     50423057  B00JWXFDMG  Everbling Purple and Clear Briolette Drop Swar...   \n",
       "2     33684654  B00VLMW18K  Scheppend Polymer Clay Cute Cartoon Fox Handma...   \n",
       "3     33684654  B00VLMW18K  Scheppend Polymer Clay Cute Cartoon Fox Handma...   \n",
       "4     11262325  B00W5T1H9W  925 Sterling Silver Finish 6ct Simulated Diamo...   \n",
       "5     11262325  B00W5T1H9W  925 Sterling Silver Finish 6ct Simulated Diamo...   \n",
       "6     41583822  B00UMGXJJQ  Claire's Accessories Girls Gold Chain Link Str...   \n",
       "7     41583822  B00UMGXJJQ  Claire's Accessories Girls Gold Chain Link Str...   \n",
       "8     27541121  B00M2L6KFY  Sterling Silver Circle \"Friends Forever\" Infin...   \n",
       "9     27541121  B00M2L6KFY  Sterling Silver Circle \"Friends Forever\" Infin...   \n",
       "\n",
       "  product_category  rating review_date  \n",
       "0          Jewelry       5  31-08-2015  \n",
       "1          Jewelry       5  31-08-2015  \n",
       "2          Jewelry       4  31-08-2015  \n",
       "3          Jewelry       4  31-08-2015  \n",
       "4          Jewelry       5  31-08-2015  \n",
       "5          Jewelry       5  31-08-2015  \n",
       "6          Jewelry       5  31-08-2015  \n",
       "7          Jewelry       5  31-08-2015  \n",
       "8          Jewelry       5  31-08-2015  \n",
       "9          Jewelry       5  31-08-2015  "
      ]
     },
     "execution_count": 6,
     "metadata": {},
     "output_type": "execute_result"
    }
   ],
   "source": [
    "df.head(10)"
   ]
  },
  {
   "cell_type": "code",
   "execution_count": 7,
   "id": "cddf5099",
   "metadata": {
    "execution": {
     "iopub.execute_input": "2023-08-17T00:24:38.549751Z",
     "iopub.status.busy": "2023-08-17T00:24:38.548900Z",
     "iopub.status.idle": "2023-08-17T00:24:38.554208Z",
     "shell.execute_reply": "2023-08-17T00:24:38.553081Z"
    },
    "papermill": {
     "duration": 0.016829,
     "end_time": "2023-08-17T00:24:38.556231",
     "exception": false,
     "start_time": "2023-08-17T00:24:38.539402",
     "status": "completed"
    },
    "tags": []
   },
   "outputs": [],
   "source": [
    "# Sample user and item arrays (replace these with your own data)\n",
    "users = df['customer_id']\n",
    "items = df['product_id']\n",
    "ratings = df['rating']"
   ]
  },
  {
   "cell_type": "code",
   "execution_count": 8,
   "id": "477d9021",
   "metadata": {
    "execution": {
     "iopub.execute_input": "2023-08-17T00:24:38.574551Z",
     "iopub.status.busy": "2023-08-17T00:24:38.574271Z",
     "iopub.status.idle": "2023-08-17T00:24:38.580637Z",
     "shell.execute_reply": "2023-08-17T00:24:38.579746Z"
    },
    "papermill": {
     "duration": 0.017623,
     "end_time": "2023-08-17T00:24:38.582537",
     "exception": false,
     "start_time": "2023-08-17T00:24:38.564914",
     "status": "completed"
    },
    "tags": []
   },
   "outputs": [
    {
     "data": {
      "text/plain": [
       "0     B00JWXFDMG\n",
       "1     B00JWXFDMG\n",
       "2     B00VLMW18K\n",
       "3     B00VLMW18K\n",
       "4     B00W5T1H9W\n",
       "5     B00W5T1H9W\n",
       "6     B00UMGXJJQ\n",
       "7     B00UMGXJJQ\n",
       "8     B00M2L6KFY\n",
       "9     B00M2L6KFY\n",
       "10    B00AJ2VU8A\n",
       "11    B00AJ2VU8A\n",
       "12    B0006SW2WU\n",
       "13    B0006SW2WU\n",
       "14    B00449ZF4O\n",
       "Name: product_id, dtype: object"
      ]
     },
     "execution_count": 8,
     "metadata": {},
     "output_type": "execute_result"
    }
   ],
   "source": [
    "df['product_id'].head(15)"
   ]
  },
  {
   "cell_type": "code",
   "execution_count": 9,
   "id": "0c260d64",
   "metadata": {
    "execution": {
     "iopub.execute_input": "2023-08-17T00:24:38.601701Z",
     "iopub.status.busy": "2023-08-17T00:24:38.600951Z",
     "iopub.status.idle": "2023-08-17T00:24:38.623807Z",
     "shell.execute_reply": "2023-08-17T00:24:38.622201Z"
    },
    "papermill": {
     "duration": 0.034372,
     "end_time": "2023-08-17T00:24:38.625789",
     "exception": false,
     "start_time": "2023-08-17T00:24:38.591417",
     "status": "completed"
    },
    "scrolled": true,
    "tags": []
   },
   "outputs": [
    {
     "name": "stdout",
     "output_type": "stream",
     "text": [
      "<class 'pandas.core.series.Series'>\n",
      "RangeIndex: 1194 entries, 0 to 1193\n",
      "Series name: customer_id\n",
      "Non-Null Count  Dtype\n",
      "--------------  -----\n",
      "1194 non-null   int64\n",
      "dtypes: int64(1)\n",
      "memory usage: 9.5 KB\n",
      "<class 'pandas.core.series.Series'>\n",
      "RangeIndex: 1194 entries, 0 to 1193\n",
      "Series name: product_id\n",
      "Non-Null Count  Dtype \n",
      "--------------  ----- \n",
      "1194 non-null   object\n",
      "dtypes: object(1)\n",
      "memory usage: 9.5+ KB\n",
      "<class 'pandas.core.series.Series'>\n",
      "RangeIndex: 1194 entries, 0 to 1193\n",
      "Series name: rating\n",
      "Non-Null Count  Dtype\n",
      "--------------  -----\n",
      "1194 non-null   int64\n",
      "dtypes: int64(1)\n",
      "memory usage: 9.5 KB\n"
     ]
    }
   ],
   "source": [
    "users.info()\n",
    "items.info()\n",
    "ratings.info()"
   ]
  },
  {
   "cell_type": "code",
   "execution_count": 10,
   "id": "27dfb48a",
   "metadata": {
    "execution": {
     "iopub.execute_input": "2023-08-17T00:24:38.645051Z",
     "iopub.status.busy": "2023-08-17T00:24:38.644446Z",
     "iopub.status.idle": "2023-08-17T00:24:38.649572Z",
     "shell.execute_reply": "2023-08-17T00:24:38.648686Z"
    },
    "papermill": {
     "duration": 0.016826,
     "end_time": "2023-08-17T00:24:38.651566",
     "exception": false,
     "start_time": "2023-08-17T00:24:38.634740",
     "status": "completed"
    },
    "tags": []
   },
   "outputs": [],
   "source": [
    "data = pd.DataFrame({'user': users, 'item': items, 'rating': ratings})"
   ]
  },
  {
   "cell_type": "code",
   "execution_count": 11,
   "id": "48455764",
   "metadata": {
    "execution": {
     "iopub.execute_input": "2023-08-17T00:24:38.671563Z",
     "iopub.status.busy": "2023-08-17T00:24:38.670159Z",
     "iopub.status.idle": "2023-08-17T00:24:38.677365Z",
     "shell.execute_reply": "2023-08-17T00:24:38.676547Z"
    },
    "papermill": {
     "duration": 0.018922,
     "end_time": "2023-08-17T00:24:38.679339",
     "exception": false,
     "start_time": "2023-08-17T00:24:38.660417",
     "status": "completed"
    },
    "tags": []
   },
   "outputs": [],
   "source": [
    "user_encoder = LabelEncoder()\n",
    "item_encoder = LabelEncoder()\n",
    "data['user'] = user_encoder.fit_transform(data['user'])\n",
    "data['item'] = item_encoder.fit_transform(data['item'])"
   ]
  },
  {
   "cell_type": "code",
   "execution_count": 12,
   "id": "50832e95",
   "metadata": {
    "execution": {
     "iopub.execute_input": "2023-08-17T00:24:38.701406Z",
     "iopub.status.busy": "2023-08-17T00:24:38.700589Z",
     "iopub.status.idle": "2023-08-17T00:24:38.709254Z",
     "shell.execute_reply": "2023-08-17T00:24:38.708326Z"
    },
    "papermill": {
     "duration": 0.023069,
     "end_time": "2023-08-17T00:24:38.711388",
     "exception": false,
     "start_time": "2023-08-17T00:24:38.688319",
     "status": "completed"
    },
    "tags": []
   },
   "outputs": [
    {
     "data": {
      "text/html": [
       "<div>\n",
       "<style scoped>\n",
       "    .dataframe tbody tr th:only-of-type {\n",
       "        vertical-align: middle;\n",
       "    }\n",
       "\n",
       "    .dataframe tbody tr th {\n",
       "        vertical-align: top;\n",
       "    }\n",
       "\n",
       "    .dataframe thead th {\n",
       "        text-align: right;\n",
       "    }\n",
       "</style>\n",
       "<table border=\"1\" class=\"dataframe\">\n",
       "  <thead>\n",
       "    <tr style=\"text-align: right;\">\n",
       "      <th></th>\n",
       "      <th>user</th>\n",
       "      <th>item</th>\n",
       "      <th>rating</th>\n",
       "    </tr>\n",
       "  </thead>\n",
       "  <tbody>\n",
       "    <tr>\n",
       "      <th>0</th>\n",
       "      <td>91</td>\n",
       "      <td>78</td>\n",
       "      <td>5</td>\n",
       "    </tr>\n",
       "    <tr>\n",
       "      <th>1</th>\n",
       "      <td>91</td>\n",
       "      <td>78</td>\n",
       "      <td>5</td>\n",
       "    </tr>\n",
       "    <tr>\n",
       "      <th>2</th>\n",
       "      <td>70</td>\n",
       "      <td>133</td>\n",
       "      <td>4</td>\n",
       "    </tr>\n",
       "    <tr>\n",
       "      <th>3</th>\n",
       "      <td>70</td>\n",
       "      <td>133</td>\n",
       "      <td>4</td>\n",
       "    </tr>\n",
       "    <tr>\n",
       "      <th>4</th>\n",
       "      <td>36</td>\n",
       "      <td>134</td>\n",
       "      <td>5</td>\n",
       "    </tr>\n",
       "  </tbody>\n",
       "</table>\n",
       "</div>"
      ],
      "text/plain": [
       "   user  item  rating\n",
       "0    91    78       5\n",
       "1    91    78       5\n",
       "2    70   133       4\n",
       "3    70   133       4\n",
       "4    36   134       5"
      ]
     },
     "execution_count": 12,
     "metadata": {},
     "output_type": "execute_result"
    }
   ],
   "source": [
    "data.head()"
   ]
  },
  {
   "cell_type": "code",
   "execution_count": 13,
   "id": "c90e8be1",
   "metadata": {
    "execution": {
     "iopub.execute_input": "2023-08-17T00:24:38.732260Z",
     "iopub.status.busy": "2023-08-17T00:24:38.731572Z",
     "iopub.status.idle": "2023-08-17T00:24:38.739260Z",
     "shell.execute_reply": "2023-08-17T00:24:38.738373Z"
    },
    "papermill": {
     "duration": 0.020151,
     "end_time": "2023-08-17T00:24:38.741356",
     "exception": false,
     "start_time": "2023-08-17T00:24:38.721205",
     "status": "completed"
    },
    "tags": []
   },
   "outputs": [],
   "source": [
    "train_data, test_data = train_test_split(data, test_size=0.2, random_state=42)\n"
   ]
  },
  {
   "cell_type": "code",
   "execution_count": 14,
   "id": "5c031d1c",
   "metadata": {
    "execution": {
     "iopub.execute_input": "2023-08-17T00:24:38.761420Z",
     "iopub.status.busy": "2023-08-17T00:24:38.760696Z",
     "iopub.status.idle": "2023-08-17T00:24:38.764744Z",
     "shell.execute_reply": "2023-08-17T00:24:38.763801Z"
    },
    "papermill": {
     "duration": 0.016163,
     "end_time": "2023-08-17T00:24:38.766644",
     "exception": false,
     "start_time": "2023-08-17T00:24:38.750481",
     "status": "completed"
    },
    "tags": []
   },
   "outputs": [],
   "source": [
    "embedding_dim = 32"
   ]
  },
  {
   "cell_type": "code",
   "execution_count": 15,
   "id": "5f634bac",
   "metadata": {
    "execution": {
     "iopub.execute_input": "2023-08-17T00:24:38.786335Z",
     "iopub.status.busy": "2023-08-17T00:24:38.785532Z",
     "iopub.status.idle": "2023-08-17T00:24:38.808545Z",
     "shell.execute_reply": "2023-08-17T00:24:38.807777Z"
    },
    "papermill": {
     "duration": 0.034886,
     "end_time": "2023-08-17T00:24:38.810638",
     "exception": false,
     "start_time": "2023-08-17T00:24:38.775752",
     "status": "completed"
    },
    "tags": []
   },
   "outputs": [],
   "source": [
    "# Input layers for user and item\n",
    "user_input = Input(shape=(1,))\n",
    "item_input = Input(shape=(1,))"
   ]
  },
  {
   "cell_type": "code",
   "execution_count": 16,
   "id": "26386976",
   "metadata": {
    "execution": {
     "iopub.execute_input": "2023-08-17T00:24:38.831549Z",
     "iopub.status.busy": "2023-08-17T00:24:38.830061Z",
     "iopub.status.idle": "2023-08-17T00:24:41.853828Z",
     "shell.execute_reply": "2023-08-17T00:24:41.852829Z"
    },
    "papermill": {
     "duration": 3.036248,
     "end_time": "2023-08-17T00:24:41.856103",
     "exception": false,
     "start_time": "2023-08-17T00:24:38.819855",
     "status": "completed"
    },
    "tags": []
   },
   "outputs": [],
   "source": [
    "# Embedding layers\n",
    "user_embedding = Embedding(input_dim=len(users), output_dim=embedding_dim)(user_input)\n",
    "item_embedding = Embedding(input_dim=len(items), output_dim=embedding_dim)(item_input)\n"
   ]
  },
  {
   "cell_type": "code",
   "execution_count": 17,
   "id": "e862dd89",
   "metadata": {
    "execution": {
     "iopub.execute_input": "2023-08-17T00:24:41.876787Z",
     "iopub.status.busy": "2023-08-17T00:24:41.875913Z",
     "iopub.status.idle": "2023-08-17T00:24:41.888418Z",
     "shell.execute_reply": "2023-08-17T00:24:41.887422Z"
    },
    "papermill": {
     "duration": 0.024932,
     "end_time": "2023-08-17T00:24:41.890661",
     "exception": false,
     "start_time": "2023-08-17T00:24:41.865729",
     "status": "completed"
    },
    "tags": []
   },
   "outputs": [],
   "source": [
    "# Flatten embeddings\n",
    "user_flatten = Flatten()(user_embedding)\n",
    "item_flatten = Flatten()(item_embedding)"
   ]
  },
  {
   "cell_type": "code",
   "execution_count": 18,
   "id": "33eea335",
   "metadata": {
    "execution": {
     "iopub.execute_input": "2023-08-17T00:24:41.910787Z",
     "iopub.status.busy": "2023-08-17T00:24:41.909931Z",
     "iopub.status.idle": "2023-08-17T00:24:41.918840Z",
     "shell.execute_reply": "2023-08-17T00:24:41.917976Z"
    },
    "papermill": {
     "duration": 0.02081,
     "end_time": "2023-08-17T00:24:41.920835",
     "exception": false,
     "start_time": "2023-08-17T00:24:41.900025",
     "status": "completed"
    },
    "tags": []
   },
   "outputs": [],
   "source": [
    "# Concatenate user and item embeddings\n",
    "concatenated = Concatenate()([user_flatten, item_flatten])\n"
   ]
  },
  {
   "cell_type": "code",
   "execution_count": 19,
   "id": "6a166156",
   "metadata": {
    "execution": {
     "iopub.execute_input": "2023-08-17T00:24:41.940950Z",
     "iopub.status.busy": "2023-08-17T00:24:41.940154Z",
     "iopub.status.idle": "2023-08-17T00:24:41.994819Z",
     "shell.execute_reply": "2023-08-17T00:24:41.993939Z"
    },
    "papermill": {
     "duration": 0.066933,
     "end_time": "2023-08-17T00:24:41.996886",
     "exception": false,
     "start_time": "2023-08-17T00:24:41.929953",
     "status": "completed"
    },
    "tags": []
   },
   "outputs": [],
   "source": [
    "# # Neural network layers\n",
    "# hidden_layer = Dense(128, activation='relu')(concatenated)\n",
    "# output_layer = Dense(1, activation='linear')(hidden_layer)\n",
    "from keras.layers import Embedding, Input, Dense, Flatten, Concatenate, Dropout, BatchNormalization\n",
    "\n",
    "#Additional hidden layers\n",
    "hidden_layer_1 = Dense(128, activation='relu')(concatenated)\n",
    "hidden_layer_1 = BatchNormalization()(hidden_layer_1)\n",
    "hidden_layer_1 = Dropout(0.3)(hidden_layer_1)\n",
    "\n",
    "# hidden_layer_2 = Dense(64, activation='relu')(hidden_layer_1)\n",
    "# hidden_layer_2 = BatchNormalization()(hidden_layer_2)\n",
    "# hidden_layer_2 = Dropout(0.3)(hidden_layer_2)\n",
    "\n",
    "# hidden_layer_3 = Dense(32, activation='relu')(hidden_layer_2)\n",
    "# hidden_layer_3 = BatchNormalization()(hidden_layer_3)\n",
    "# hidden_layer_3 = Dropout(0.3)(hidden_layer_3)\n",
    "\n",
    "# Output layer\n",
    "output_layer = Dense(1, activation='linear')(hidden_layer_1)"
   ]
  },
  {
   "cell_type": "code",
   "execution_count": 20,
   "id": "d9e15be1",
   "metadata": {
    "execution": {
     "iopub.execute_input": "2023-08-17T00:24:42.018282Z",
     "iopub.status.busy": "2023-08-17T00:24:42.016808Z",
     "iopub.status.idle": "2023-08-17T00:24:42.028462Z",
     "shell.execute_reply": "2023-08-17T00:24:42.027624Z"
    },
    "papermill": {
     "duration": 0.024149,
     "end_time": "2023-08-17T00:24:42.030456",
     "exception": false,
     "start_time": "2023-08-17T00:24:42.006307",
     "status": "completed"
    },
    "tags": []
   },
   "outputs": [],
   "source": [
    "# Create the model\n",
    "model = Model(inputs=[user_input, item_input], outputs=output_layer)\n"
   ]
  },
  {
   "cell_type": "code",
   "execution_count": 21,
   "id": "3d9a03fb",
   "metadata": {
    "execution": {
     "iopub.execute_input": "2023-08-17T00:24:42.050583Z",
     "iopub.status.busy": "2023-08-17T00:24:42.049770Z",
     "iopub.status.idle": "2023-08-17T00:24:42.065305Z",
     "shell.execute_reply": "2023-08-17T00:24:42.064397Z"
    },
    "papermill": {
     "duration": 0.027545,
     "end_time": "2023-08-17T00:24:42.067280",
     "exception": false,
     "start_time": "2023-08-17T00:24:42.039735",
     "status": "completed"
    },
    "tags": []
   },
   "outputs": [],
   "source": [
    "# Compile the model\n",
    "model.compile(optimizer='adam', loss='mean_squared_error')"
   ]
  },
  {
   "cell_type": "code",
   "execution_count": 22,
   "id": "6ad400c0",
   "metadata": {
    "execution": {
     "iopub.execute_input": "2023-08-17T00:24:42.087235Z",
     "iopub.status.busy": "2023-08-17T00:24:42.086382Z",
     "iopub.status.idle": "2023-08-17T00:24:42.093056Z",
     "shell.execute_reply": "2023-08-17T00:24:42.092150Z"
    },
    "papermill": {
     "duration": 0.018587,
     "end_time": "2023-08-17T00:24:42.094985",
     "exception": false,
     "start_time": "2023-08-17T00:24:42.076398",
     "status": "completed"
    },
    "tags": []
   },
   "outputs": [
    {
     "data": {
      "text/plain": [
       "[<keras.engine.input_layer.InputLayer at 0x7d6b87f6cfa0>,\n",
       " <keras.engine.input_layer.InputLayer at 0x7d6c2a425570>,\n",
       " <keras.layers.core.embedding.Embedding at 0x7d6b87f6d330>,\n",
       " <keras.layers.core.embedding.Embedding at 0x7d6b87f6e860>,\n",
       " <keras.layers.reshaping.flatten.Flatten at 0x7d6b87f6eaa0>,\n",
       " <keras.layers.reshaping.flatten.Flatten at 0x7d6b87f6fd60>,\n",
       " <keras.layers.merging.concatenate.Concatenate at 0x7d6b84f64820>,\n",
       " <keras.layers.core.dense.Dense at 0x7d6b84f666b0>,\n",
       " <keras.layers.normalization.batch_normalization.BatchNormalization at 0x7d6b87f6f5b0>,\n",
       " <keras.layers.regularization.dropout.Dropout at 0x7d6b87f6fcd0>,\n",
       " <keras.layers.core.dense.Dense at 0x7d6b84f66a40>]"
      ]
     },
     "execution_count": 22,
     "metadata": {},
     "output_type": "execute_result"
    }
   ],
   "source": [
    "model.layers"
   ]
  },
  {
   "cell_type": "code",
   "execution_count": 23,
   "id": "41d52750",
   "metadata": {
    "execution": {
     "iopub.execute_input": "2023-08-17T00:24:42.114812Z",
     "iopub.status.busy": "2023-08-17T00:24:42.114066Z",
     "iopub.status.idle": "2023-08-17T00:25:03.233424Z",
     "shell.execute_reply": "2023-08-17T00:25:03.232455Z"
    },
    "papermill": {
     "duration": 21.131324,
     "end_time": "2023-08-17T00:25:03.235487",
     "exception": false,
     "start_time": "2023-08-17T00:24:42.104163",
     "status": "completed"
    },
    "tags": []
   },
   "outputs": [
    {
     "name": "stdout",
     "output_type": "stream",
     "text": [
      "Epoch 1/100\n",
      "12/12 [==============================] - 7s 181ms/step - loss: 17.2279 - val_loss: 15.9381\n",
      "Epoch 2/100\n",
      "12/12 [==============================] - 1s 99ms/step - loss: 15.0574 - val_loss: 14.6448\n",
      "Epoch 3/100\n",
      "12/12 [==============================] - 1s 76ms/step - loss: 13.4942 - val_loss: 13.2397\n",
      "Epoch 4/100\n",
      "12/12 [==============================] - 0s 8ms/step - loss: 11.6989 - val_loss: 11.7273\n",
      "Epoch 5/100\n",
      "12/12 [==============================] - 0s 8ms/step - loss: 10.1779 - val_loss: 10.1209\n",
      "Epoch 6/100\n",
      "12/12 [==============================] - 0s 21ms/step - loss: 8.4121 - val_loss: 8.4449\n",
      "Epoch 7/100\n",
      "12/12 [==============================] - 0s 9ms/step - loss: 6.5948 - val_loss: 6.7981\n",
      "Epoch 8/100\n",
      "12/12 [==============================] - 0s 20ms/step - loss: 5.1366 - val_loss: 5.3018\n",
      "Epoch 9/100\n",
      "12/12 [==============================] - 0s 21ms/step - loss: 3.5781 - val_loss: 4.0436\n",
      "Epoch 10/100\n",
      "12/12 [==============================] - 0s 20ms/step - loss: 2.4602 - val_loss: 3.1203\n",
      "Epoch 11/100\n",
      "12/12 [==============================] - 0s 7ms/step - loss: 1.4829 - val_loss: 2.5017\n",
      "Epoch 12/100\n",
      "12/12 [==============================] - 0s 7ms/step - loss: 0.8787 - val_loss: 2.1933\n",
      "Epoch 13/100\n",
      "12/12 [==============================] - 0s 19ms/step - loss: 0.6390 - val_loss: 2.0474\n",
      "Epoch 14/100\n",
      "12/12 [==============================] - 0s 25ms/step - loss: 0.4240 - val_loss: 1.9934\n",
      "Epoch 15/100\n",
      "12/12 [==============================] - 0s 20ms/step - loss: 0.3920 - val_loss: 1.9999\n",
      "Epoch 16/100\n",
      "12/12 [==============================] - 0s 7ms/step - loss: 0.3392 - val_loss: 1.9753\n",
      "Epoch 17/100\n",
      "12/12 [==============================] - 0s 7ms/step - loss: 0.3229 - val_loss: 1.9720\n",
      "Epoch 18/100\n",
      "12/12 [==============================] - 0s 7ms/step - loss: 0.3364 - val_loss: 1.9388\n",
      "Epoch 19/100\n",
      "12/12 [==============================] - 0s 7ms/step - loss: 0.2772 - val_loss: 1.9187\n",
      "Epoch 20/100\n",
      "12/12 [==============================] - 0s 8ms/step - loss: 0.2488 - val_loss: 1.9040\n",
      "Epoch 21/100\n",
      "12/12 [==============================] - 0s 26ms/step - loss: 0.2378 - val_loss: 1.8710\n",
      "Epoch 22/100\n",
      "12/12 [==============================] - 0s 7ms/step - loss: 0.2142 - val_loss: 1.8400\n",
      "Epoch 23/100\n",
      "12/12 [==============================] - 0s 36ms/step - loss: 0.2181 - val_loss: 1.8231\n",
      "Epoch 24/100\n",
      "12/12 [==============================] - 0s 7ms/step - loss: 0.2238 - val_loss: 1.7962\n",
      "Epoch 25/100\n",
      "12/12 [==============================] - 0s 9ms/step - loss: 0.1639 - val_loss: 1.7741\n",
      "Epoch 26/100\n",
      "12/12 [==============================] - 0s 8ms/step - loss: 0.1671 - val_loss: 1.7098\n",
      "Epoch 27/100\n",
      "12/12 [==============================] - 0s 8ms/step - loss: 0.2456 - val_loss: 1.6913\n",
      "Epoch 28/100\n",
      "12/12 [==============================] - 0s 8ms/step - loss: 0.1773 - val_loss: 1.6819\n",
      "Epoch 29/100\n",
      "12/12 [==============================] - 0s 7ms/step - loss: 0.1786 - val_loss: 1.6189\n",
      "Epoch 30/100\n",
      "12/12 [==============================] - 0s 8ms/step - loss: 0.1894 - val_loss: 1.6047\n",
      "Epoch 31/100\n",
      "12/12 [==============================] - 0s 7ms/step - loss: 0.1715 - val_loss: 1.5516\n",
      "Epoch 32/100\n",
      "12/12 [==============================] - 0s 27ms/step - loss: 0.1845 - val_loss: 1.5061\n",
      "Epoch 33/100\n",
      "12/12 [==============================] - 0s 24ms/step - loss: 0.1651 - val_loss: 1.4753\n",
      "Epoch 34/100\n",
      "12/12 [==============================] - 0s 8ms/step - loss: 0.1563 - val_loss: 1.4094\n",
      "Epoch 35/100\n",
      "12/12 [==============================] - 0s 26ms/step - loss: 0.1580 - val_loss: 1.3916\n",
      "Epoch 36/100\n",
      "12/12 [==============================] - 0s 8ms/step - loss: 0.1741 - val_loss: 1.3224\n",
      "Epoch 37/100\n",
      "12/12 [==============================] - 0s 8ms/step - loss: 0.1469 - val_loss: 1.3043\n",
      "Epoch 38/100\n",
      "12/12 [==============================] - 0s 7ms/step - loss: 0.1350 - val_loss: 1.2146\n",
      "Epoch 39/100\n",
      "12/12 [==============================] - 0s 14ms/step - loss: 0.1561 - val_loss: 1.1949\n",
      "Epoch 40/100\n",
      "12/12 [==============================] - 0s 11ms/step - loss: 0.1413 - val_loss: 1.1489\n",
      "Epoch 41/100\n",
      "12/12 [==============================] - 0s 13ms/step - loss: 0.1633 - val_loss: 1.0479\n",
      "Epoch 42/100\n",
      "12/12 [==============================] - 0s 12ms/step - loss: 0.1361 - val_loss: 1.0307\n",
      "Epoch 43/100\n",
      "12/12 [==============================] - 0s 13ms/step - loss: 0.1345 - val_loss: 0.9794\n",
      "Epoch 44/100\n",
      "12/12 [==============================] - 0s 10ms/step - loss: 0.1567 - val_loss: 0.9196\n",
      "Epoch 45/100\n",
      "12/12 [==============================] - 0s 11ms/step - loss: 0.1495 - val_loss: 0.8583\n",
      "Epoch 46/100\n",
      "12/12 [==============================] - 0s 11ms/step - loss: 0.1352 - val_loss: 0.8151\n",
      "Epoch 47/100\n",
      "12/12 [==============================] - 0s 12ms/step - loss: 0.1465 - val_loss: 0.7483\n",
      "Epoch 48/100\n",
      "12/12 [==============================] - 0s 11ms/step - loss: 0.1345 - val_loss: 0.7339\n",
      "Epoch 49/100\n",
      "12/12 [==============================] - 0s 11ms/step - loss: 0.1494 - val_loss: 0.6953\n",
      "Epoch 50/100\n",
      "12/12 [==============================] - 0s 8ms/step - loss: 0.1227 - val_loss: 0.6532\n",
      "Epoch 51/100\n",
      "12/12 [==============================] - 0s 8ms/step - loss: 0.1528 - val_loss: 0.5955\n",
      "Epoch 52/100\n",
      "12/12 [==============================] - 0s 7ms/step - loss: 0.1155 - val_loss: 0.5490\n",
      "Epoch 53/100\n",
      "12/12 [==============================] - 0s 8ms/step - loss: 0.1537 - val_loss: 0.5402\n",
      "Epoch 54/100\n",
      "12/12 [==============================] - 0s 7ms/step - loss: 0.1577 - val_loss: 0.4732\n",
      "Epoch 55/100\n",
      "12/12 [==============================] - 0s 8ms/step - loss: 0.1398 - val_loss: 0.4420\n",
      "Epoch 56/100\n",
      "12/12 [==============================] - 0s 9ms/step - loss: 0.1346 - val_loss: 0.4525\n",
      "Epoch 57/100\n",
      "12/12 [==============================] - 0s 7ms/step - loss: 0.1275 - val_loss: 0.3896\n",
      "Epoch 58/100\n",
      "12/12 [==============================] - 0s 7ms/step - loss: 0.1350 - val_loss: 0.3725\n",
      "Epoch 59/100\n",
      "12/12 [==============================] - 0s 7ms/step - loss: 0.1729 - val_loss: 0.3393\n",
      "Epoch 60/100\n",
      "12/12 [==============================] - 0s 7ms/step - loss: 0.1788 - val_loss: 0.3219\n",
      "Epoch 61/100\n",
      "12/12 [==============================] - 0s 7ms/step - loss: 0.1452 - val_loss: 0.3064\n",
      "Epoch 62/100\n",
      "12/12 [==============================] - 0s 8ms/step - loss: 0.1406 - val_loss: 0.2671\n",
      "Epoch 63/100\n",
      "12/12 [==============================] - 0s 8ms/step - loss: 0.1538 - val_loss: 0.2829\n",
      "Epoch 64/100\n",
      "12/12 [==============================] - 0s 8ms/step - loss: 0.1213 - val_loss: 0.2671\n",
      "Epoch 65/100\n",
      "12/12 [==============================] - 0s 7ms/step - loss: 0.1389 - val_loss: 0.2747\n",
      "Epoch 66/100\n",
      "12/12 [==============================] - 0s 9ms/step - loss: 0.1366 - val_loss: 0.2395\n",
      "Epoch 67/100\n",
      "12/12 [==============================] - 0s 7ms/step - loss: 0.1235 - val_loss: 0.2434\n",
      "Epoch 68/100\n",
      "12/12 [==============================] - 0s 7ms/step - loss: 0.1668 - val_loss: 0.2272\n",
      "Epoch 69/100\n",
      "12/12 [==============================] - 0s 7ms/step - loss: 0.1527 - val_loss: 0.2297\n",
      "Epoch 70/100\n",
      "12/12 [==============================] - 0s 7ms/step - loss: 0.1292 - val_loss: 0.2267\n",
      "Epoch 71/100\n",
      "12/12 [==============================] - 0s 8ms/step - loss: 0.1572 - val_loss: 0.2482\n",
      "Epoch 72/100\n",
      "12/12 [==============================] - 0s 7ms/step - loss: 0.1410 - val_loss: 0.2206\n",
      "Epoch 73/100\n",
      "12/12 [==============================] - 0s 7ms/step - loss: 0.1395 - val_loss: 0.2272\n",
      "Epoch 74/100\n",
      "12/12 [==============================] - 0s 7ms/step - loss: 0.1396 - val_loss: 0.2375\n",
      "Epoch 75/100\n",
      "12/12 [==============================] - 0s 7ms/step - loss: 0.1360 - val_loss: 0.2169\n",
      "Epoch 76/100\n",
      "12/12 [==============================] - 0s 7ms/step - loss: 0.1333 - val_loss: 0.2040\n",
      "Epoch 77/100\n",
      "12/12 [==============================] - 0s 7ms/step - loss: 0.1458 - val_loss: 0.2153\n",
      "Epoch 78/100\n",
      "12/12 [==============================] - 0s 7ms/step - loss: 0.1649 - val_loss: 0.2147\n",
      "Epoch 79/100\n",
      "12/12 [==============================] - 0s 7ms/step - loss: 0.1207 - val_loss: 0.2137\n",
      "Epoch 80/100\n",
      "12/12 [==============================] - 0s 7ms/step - loss: 0.1340 - val_loss: 0.2170\n",
      "Epoch 81/100\n",
      "12/12 [==============================] - 0s 7ms/step - loss: 0.1409 - val_loss: 0.2064\n",
      "Epoch 82/100\n",
      "12/12 [==============================] - 0s 8ms/step - loss: 0.1438 - val_loss: 0.2142\n",
      "Epoch 83/100\n",
      "12/12 [==============================] - 0s 8ms/step - loss: 0.1602 - val_loss: 0.2081\n",
      "Epoch 84/100\n",
      "12/12 [==============================] - 0s 7ms/step - loss: 0.1657 - val_loss: 0.2199\n",
      "Epoch 85/100\n",
      "12/12 [==============================] - 0s 8ms/step - loss: 0.1350 - val_loss: 0.2104\n",
      "Epoch 86/100\n",
      "12/12 [==============================] - 0s 7ms/step - loss: 0.1422 - val_loss: 0.2164\n",
      "Epoch 87/100\n",
      "12/12 [==============================] - 0s 8ms/step - loss: 0.1406 - val_loss: 0.2185\n",
      "Epoch 88/100\n",
      "12/12 [==============================] - 0s 7ms/step - loss: 0.1454 - val_loss: 0.2081\n",
      "Epoch 89/100\n",
      "12/12 [==============================] - 0s 7ms/step - loss: 0.1338 - val_loss: 0.2233\n",
      "Epoch 90/100\n",
      "12/12 [==============================] - 0s 7ms/step - loss: 0.1175 - val_loss: 0.2138\n",
      "Epoch 91/100\n",
      "12/12 [==============================] - 0s 7ms/step - loss: 0.1433 - val_loss: 0.2177\n",
      "Epoch 92/100\n",
      "12/12 [==============================] - 0s 19ms/step - loss: 0.1556 - val_loss: 0.2151\n",
      "Epoch 93/100\n",
      "12/12 [==============================] - 0s 7ms/step - loss: 0.1411 - val_loss: 0.2167\n",
      "Epoch 94/100\n",
      "12/12 [==============================] - 0s 7ms/step - loss: 0.1394 - val_loss: 0.2080\n",
      "Epoch 95/100\n",
      "12/12 [==============================] - 0s 7ms/step - loss: 0.1331 - val_loss: 0.2129\n",
      "Epoch 96/100\n",
      "12/12 [==============================] - 0s 8ms/step - loss: 0.1402 - val_loss: 0.2108\n",
      "Epoch 97/100\n",
      "12/12 [==============================] - 0s 7ms/step - loss: 0.1515 - val_loss: 0.2184\n",
      "Epoch 98/100\n",
      "12/12 [==============================] - 0s 7ms/step - loss: 0.1373 - val_loss: 0.2038\n",
      "Epoch 99/100\n",
      "12/12 [==============================] - 0s 7ms/step - loss: 0.1297 - val_loss: 0.2089\n",
      "Epoch 100/100\n",
      "12/12 [==============================] - 0s 8ms/step - loss: 0.1470 - val_loss: 0.2131\n"
     ]
    },
    {
     "data": {
      "text/plain": [
       "<keras.callbacks.History at 0x7d6b84fe2980>"
      ]
     },
     "execution_count": 23,
     "metadata": {},
     "output_type": "execute_result"
    }
   ],
   "source": [
    "# Train the model\n",
    "model.fit(\n",
    "    [train_data['user'], train_data['item']],\n",
    "    train_data['rating'],\n",
    "    batch_size=64,\n",
    "    epochs=100,\n",
    "    validation_split=0.2\n",
    ")"
   ]
  },
  {
   "cell_type": "code",
   "execution_count": 24,
   "id": "ebff4b7a",
   "metadata": {
    "execution": {
     "iopub.execute_input": "2023-08-17T00:25:03.310134Z",
     "iopub.status.busy": "2023-08-17T00:25:03.309204Z",
     "iopub.status.idle": "2023-08-17T00:25:03.398070Z",
     "shell.execute_reply": "2023-08-17T00:25:03.397162Z"
    },
    "papermill": {
     "duration": 0.127979,
     "end_time": "2023-08-17T00:25:03.400427",
     "exception": false,
     "start_time": "2023-08-17T00:25:03.272448",
     "status": "completed"
    },
    "tags": []
   },
   "outputs": [
    {
     "name": "stdout",
     "output_type": "stream",
     "text": [
      "8/8 [==============================] - 0s 2ms/step - loss: 0.1781\n",
      "Test Loss: 0.17807239294052124\n"
     ]
    }
   ],
   "source": [
    "# Evaluate the model\n",
    "loss = model.evaluate([test_data['user'], test_data['item']], test_data['rating'])\n",
    "print(f'Test Loss: {loss}')\n"
   ]
  },
  {
   "cell_type": "code",
   "execution_count": 25,
   "id": "da7bae14",
   "metadata": {
    "execution": {
     "iopub.execute_input": "2023-08-17T00:25:03.475411Z",
     "iopub.status.busy": "2023-08-17T00:25:03.474687Z",
     "iopub.status.idle": "2023-08-17T00:25:03.479119Z",
     "shell.execute_reply": "2023-08-17T00:25:03.478190Z"
    },
    "papermill": {
     "duration": 0.043122,
     "end_time": "2023-08-17T00:25:03.481047",
     "exception": false,
     "start_time": "2023-08-17T00:25:03.437925",
     "status": "completed"
    },
    "tags": []
   },
   "outputs": [],
   "source": [
    "# test_data['user'] = user_encoder.transform(test_data['user'])\n",
    "# test_data['item'] = item_encoder.transform(test_data['item'])"
   ]
  },
  {
   "cell_type": "code",
   "execution_count": 26,
   "id": "5f376b77",
   "metadata": {
    "execution": {
     "iopub.execute_input": "2023-08-17T00:25:03.552459Z",
     "iopub.status.busy": "2023-08-17T00:25:03.552168Z",
     "iopub.status.idle": "2023-08-17T00:25:03.746694Z",
     "shell.execute_reply": "2023-08-17T00:25:03.745370Z"
    },
    "papermill": {
     "duration": 0.232571,
     "end_time": "2023-08-17T00:25:03.748861",
     "exception": false,
     "start_time": "2023-08-17T00:25:03.516290",
     "status": "completed"
    },
    "tags": []
   },
   "outputs": [
    {
     "name": "stdout",
     "output_type": "stream",
     "text": [
      "8/8 [==============================] - 0s 2ms/step\n",
      "User: 78, Item: 66, Predicted Rating: 3.993959426879883\n",
      "User: 70, Item: 133, Predicted Rating: 4.030628681182861\n",
      "User: 60, Item: 123, Predicted Rating: 4.921962261199951\n",
      "User: 89, Item: 119, Predicted Rating: 3.982926845550537\n",
      "User: 17, Item: 96, Predicted Rating: 1.0\n"
     ]
    }
   ],
   "source": [
    "# Make predictions\n",
    "predictions = model.predict([test_data['user'], test_data['item']])\n",
    "\n",
    "# Convert predictions back to original ratings\n",
    "predictions = np.clip(predictions, 1, 5)  # Clip predictions to rating range\n",
    "\n",
    "# Print some predictions\n",
    "for i in range(5):\n",
    "    print(f\"User: {test_data['user'].iloc[i]}, Item: {test_data['item'].iloc[i]}, Predicted Rating: {predictions[i][0]}\")\n",
    "#       print(f\"User: {test_data['user']}, Product: {test_data['item']}, Predicted Rating:(predictions[i][0]).2f\")\n",
    "# Convert predictions back to original ratings\n",
    "# predictions = np.clip(predictions, 1, 5)  # Clip predictions to rating range\n",
    "\n",
    "# # Display recommendations for test data\n",
    "# for i in range(len(test_data)):\n",
    "#     user = test_data['user'].iloc[i]\n",
    "#     item = test_data['item'].iloc[i]\n",
    "#     predicted_rating = predictions[i][0]\n",
    "#     product_name = \"Appreal\"# Replace with a function that gets the product name\n",
    "#     print(f\"User: {user}, Product: {product_name}, Predicted Rating: {predicted_rating:.2f}\")"
   ]
  },
  {
   "cell_type": "code",
   "execution_count": 27,
   "id": "516d37b6",
   "metadata": {
    "execution": {
     "iopub.execute_input": "2023-08-17T00:25:03.824421Z",
     "iopub.status.busy": "2023-08-17T00:25:03.823692Z",
     "iopub.status.idle": "2023-08-17T00:25:03.946550Z",
     "shell.execute_reply": "2023-08-17T00:25:03.944993Z"
    },
    "papermill": {
     "duration": 0.164037,
     "end_time": "2023-08-17T00:25:03.948600",
     "exception": false,
     "start_time": "2023-08-17T00:25:03.784563",
     "status": "completed"
    },
    "tags": []
   },
   "outputs": [
    {
     "name": "stdout",
     "output_type": "stream",
     "text": [
      "8/8 [==============================] - 0s 2ms/step\n",
      "User ID: 40689064, Item ID: B00EE3UOSW, Predicted Rating: 3.99\n",
      "User ID: 33684654, Item ID: B00VLMW18K, Predicted Rating: 4.03\n",
      "User ID: 28140828, Item ID: B00TYVQ3FM, Predicted Rating: 4.92\n",
      "User ID: 46667015, Item ID: B00T24K90Q, Predicted Rating: 3.98\n",
      "User ID: 1297040, Item ID: B00NHXOS6Y, Predicted Rating: 1.00\n",
      "User ID: 28987335, Item ID: B00W9Q82T4, Predicted Rating: 3.94\n",
      "User ID: 8280358, Item ID: B008OFYN9W, Predicted Rating: 2.21\n",
      "User ID: 116982, Item ID: B005QL7IOY, Predicted Rating: 5.00\n",
      "User ID: 44794333, Item ID: B00XVX9V8U, Predicted Rating: 4.87\n",
      "User ID: 17350921, Item ID: B00EDS7OUY, Predicted Rating: 4.95\n",
      "User ID: 31009358, Item ID: B00L0N0E8E, Predicted Rating: 4.95\n",
      "User ID: 25810742, Item ID: B013E0AOH6, Predicted Rating: 5.00\n",
      "User ID: 51793466, Item ID: B00WD82F1O, Predicted Rating: 4.88\n",
      "User ID: 19993978, Item ID: B003O69NZ0, Predicted Rating: 1.39\n",
      "User ID: 5377623, Item ID: B00CNU1C2A, Predicted Rating: 3.96\n",
      "User ID: 111384, Item ID: B000NXGR9M, Predicted Rating: 3.98\n",
      "User ID: 2330702, Item ID: B00Y1YDKYO, Predicted Rating: 4.95\n",
      "User ID: 31170340, Item ID: B00F427HSM, Predicted Rating: 1.44\n",
      "User ID: 46667015, Item ID: B00T24K90Q, Predicted Rating: 3.98\n",
      "User ID: 24484424, Item ID: B009YPDW70, Predicted Rating: 4.97\n",
      "User ID: 46667015, Item ID: B00T24K90Q, Predicted Rating: 3.98\n",
      "User ID: 44972687, Item ID: B00UXSEOHY, Predicted Rating: 5.00\n",
      "User ID: 6756291, Item ID: B00B33W7FE, Predicted Rating: 4.76\n",
      "User ID: 5068631, Item ID: B00U5LDBB4, Predicted Rating: 5.00\n",
      "User ID: 44605318, Item ID: B00DAGEL7E, Predicted Rating: 5.00\n"
     ]
    }
   ],
   "source": [
    "# just predicting rating -->\n",
    "\n",
    "# Make predictions\n",
    "predictions = model.predict([test_data['user'], test_data['item']])\n",
    "\n",
    "# Convert predictions back to original ratings\n",
    "predictions = np.clip(predictions, 1, 5)  # Clip predictions to rating range\n",
    "\n",
    "# Map encoded user and item IDs back to their original values\n",
    "decoded_users = user_encoder.inverse_transform(test_data['user'])\n",
    "decoded_items = item_encoder.inverse_transform(test_data['item'])\n",
    "\n",
    "# Print predictions with original user and item IDs\n",
    "for i in range(25):\n",
    "    user_id = decoded_users[i]\n",
    "    item_id = decoded_items[i]\n",
    "    predicted_rating = predictions[i][0]\n",
    "    print(f\"User ID: {user_id}, Item ID: {item_id}, Predicted Rating: {predicted_rating:.2f}\")"
   ]
  },
  {
   "cell_type": "code",
   "execution_count": 28,
   "id": "234b2bdc",
   "metadata": {
    "execution": {
     "iopub.execute_input": "2023-08-17T00:25:04.022298Z",
     "iopub.status.busy": "2023-08-17T00:25:04.021394Z",
     "iopub.status.idle": "2023-08-17T00:25:04.146982Z",
     "shell.execute_reply": "2023-08-17T00:25:04.146109Z"
    },
    "papermill": {
     "duration": 0.166488,
     "end_time": "2023-08-17T00:25:04.151237",
     "exception": false,
     "start_time": "2023-08-17T00:25:03.984749",
     "status": "completed"
    },
    "tags": []
   },
   "outputs": [
    {
     "name": "stdout",
     "output_type": "stream",
     "text": [
      "8/8 [==============================] - 0s 2ms/step\n",
      "User ID: 40689064\n",
      "  Recommendation 1: Item ID: B00EE3UOSW, Predicted Rating: 3.99\n",
      "  Recommendation 2: Item ID: B00EE3UOSW, Predicted Rating: 3.99\n",
      "  Recommendation 3: Item ID: B00EE3UOSW, Predicted Rating: 3.99\n",
      "  Recommendation 4: Item ID: B00EE3UOSW, Predicted Rating: 3.99\n",
      "  Recommendation 5: Item ID: B00EE3UOSW, Predicted Rating: 3.99\n",
      "User ID: 33684654\n",
      "  Recommendation 1: Item ID: B00VLMW18K, Predicted Rating: 4.03\n",
      "  Recommendation 2: Item ID: B00VLMW18K, Predicted Rating: 4.03\n",
      "  Recommendation 3: Item ID: B00VLMW18K, Predicted Rating: 4.03\n",
      "  Recommendation 4: Item ID: B00VLMW18K, Predicted Rating: 4.03\n",
      "  Recommendation 5: Item ID: B00VLMW18K, Predicted Rating: 4.03\n",
      "User ID: 28140828\n",
      "  Recommendation 1: Item ID: B00TYVQ3FM, Predicted Rating: 4.92\n",
      "User ID: 46667015\n",
      "  Recommendation 1: Item ID: B00T24K90Q, Predicted Rating: 3.98\n",
      "  Recommendation 2: Item ID: B00T24K90Q, Predicted Rating: 3.98\n",
      "  Recommendation 3: Item ID: B00T24K90Q, Predicted Rating: 3.98\n",
      "  Recommendation 4: Item ID: B00T24K90Q, Predicted Rating: 3.98\n",
      "  Recommendation 5: Item ID: B00T24K90Q, Predicted Rating: 3.98\n",
      "User ID: 1297040\n",
      "  Recommendation 1: Item ID: B00NHXOS6Y, Predicted Rating: 1.00\n",
      "  Recommendation 2: Item ID: B00NHXOS6Y, Predicted Rating: 1.00\n",
      "User ID: 28987335\n",
      "  Recommendation 1: Item ID: B00K4I2J9T, Predicted Rating: 4.01\n",
      "  Recommendation 2: Item ID: B00W9Q82T4, Predicted Rating: 3.94\n",
      "  Recommendation 3: Item ID: B00W9Q82T4, Predicted Rating: 3.94\n",
      "User ID: 8280358\n",
      "  Recommendation 1: Item ID: B008OFYN9W, Predicted Rating: 2.21\n",
      "  Recommendation 2: Item ID: B008OFYN9W, Predicted Rating: 2.21\n",
      "User ID: 116982\n",
      "  Recommendation 1: Item ID: B005QL7IOY, Predicted Rating: 5.00\n",
      "  Recommendation 2: Item ID: B005QL7IOY, Predicted Rating: 5.00\n",
      "  Recommendation 3: Item ID: B005QL7IOY, Predicted Rating: 5.00\n",
      "  Recommendation 4: Item ID: B005QL7IOY, Predicted Rating: 5.00\n",
      "User ID: 44794333\n",
      "  Recommendation 1: Item ID: B00XVX9V8U, Predicted Rating: 4.87\n",
      "  Recommendation 2: Item ID: B00XVX9V8U, Predicted Rating: 4.87\n",
      "  Recommendation 3: Item ID: B00XVX9V8U, Predicted Rating: 4.87\n",
      "User ID: 17350921\n",
      "  Recommendation 1: Item ID: B00EDS7OUY, Predicted Rating: 4.95\n",
      "  Recommendation 2: Item ID: B00EDS7OUY, Predicted Rating: 4.95\n",
      "  Recommendation 3: Item ID: B00EDS7OUY, Predicted Rating: 4.95\n",
      "  Recommendation 4: Item ID: B00EDS7OUY, Predicted Rating: 4.95\n",
      "User ID: 31009358\n",
      "  Recommendation 1: Item ID: B00L0N0E8E, Predicted Rating: 4.95\n",
      "  Recommendation 2: Item ID: B00L0N0E8E, Predicted Rating: 4.95\n",
      "  Recommendation 3: Item ID: B00U67H4G, Predicted Rating: 4.41\n",
      "User ID: 25810742\n",
      "  Recommendation 1: Item ID: B013E0AOH6, Predicted Rating: 5.00\n",
      "  Recommendation 2: Item ID: B013E0AOH6, Predicted Rating: 5.00\n",
      "  Recommendation 3: Item ID: B013E0AOH6, Predicted Rating: 5.00\n",
      "  Recommendation 4: Item ID: B013E0AOH6, Predicted Rating: 5.00\n",
      "  Recommendation 5: Item ID: B013E0AOH6, Predicted Rating: 5.00\n",
      "User ID: 51793466\n",
      "  Recommendation 1: Item ID: B00WD82F1O, Predicted Rating: 4.88\n",
      "  Recommendation 2: Item ID: B00WD82F1O, Predicted Rating: 4.88\n",
      "  Recommendation 3: Item ID: B00WD82F1O, Predicted Rating: 4.88\n",
      "  Recommendation 4: Item ID: B00WD82F1O, Predicted Rating: 4.88\n",
      "User ID: 19993978\n",
      "  Recommendation 1: Item ID: B003O69NZ0, Predicted Rating: 1.39\n",
      "User ID: 5377623\n",
      "  Recommendation 1: Item ID: B00CNU1C2A, Predicted Rating: 3.96\n",
      "User ID: 111384\n",
      "  Recommendation 1: Item ID: B000NXGR9M, Predicted Rating: 3.98\n",
      "  Recommendation 2: Item ID: B000NXGR9M, Predicted Rating: 3.98\n",
      "  Recommendation 3: Item ID: B000NXGR9M, Predicted Rating: 3.98\n",
      "User ID: 2330702\n",
      "  Recommendation 1: Item ID: B00Y1YDKYO, Predicted Rating: 4.95\n",
      "  Recommendation 2: Item ID: B00Y1YDKYO, Predicted Rating: 4.95\n",
      "  Recommendation 3: Item ID: B00Y1YDKYO, Predicted Rating: 4.95\n",
      "  Recommendation 4: Item ID: B00Y1YDKYO, Predicted Rating: 4.95\n",
      "  Recommendation 5: Item ID: B00Y1YDKYO, Predicted Rating: 4.95\n",
      "User ID: 31170340\n",
      "  Recommendation 1: Item ID: B00F427HSM, Predicted Rating: 1.44\n",
      "User ID: 24484424\n",
      "  Recommendation 1: Item ID: B009YPDW70, Predicted Rating: 4.97\n",
      "  Recommendation 2: Item ID: B009YPDW70, Predicted Rating: 4.97\n",
      "User ID: 44972687\n",
      "  Recommendation 1: Item ID: B00UXSEOHY, Predicted Rating: 5.00\n",
      "  Recommendation 2: Item ID: B00UXSEOHY, Predicted Rating: 5.00\n",
      "  Recommendation 3: Item ID: B00UXSEOHY, Predicted Rating: 5.00\n",
      "  Recommendation 4: Item ID: B00UXSEOHY, Predicted Rating: 5.00\n",
      "  Recommendation 5: Item ID: B00UXSEOHY, Predicted Rating: 5.00\n",
      "User ID: 6756291\n",
      "  Recommendation 1: Item ID: B00B33W7FE, Predicted Rating: 4.76\n",
      "  Recommendation 2: Item ID: B00B33W7FE, Predicted Rating: 4.76\n",
      "User ID: 5068631\n",
      "  Recommendation 1: Item ID: B00U5LDBB4, Predicted Rating: 5.00\n",
      "  Recommendation 2: Item ID: B00U5LDBB4, Predicted Rating: 5.00\n",
      "  Recommendation 3: Item ID: B00U5LDBB4, Predicted Rating: 5.00\n",
      "User ID: 44605318\n",
      "  Recommendation 1: Item ID: B00DAGEL7E, Predicted Rating: 5.00\n",
      "  Recommendation 2: Item ID: B00DAGEL7E, Predicted Rating: 5.00\n",
      "  Recommendation 3: Item ID: B00DAGEL7E, Predicted Rating: 5.00\n",
      "User ID: 12037665\n",
      "  Recommendation 1: Item ID: B00XAWUP96, Predicted Rating: 4.00\n",
      "  Recommendation 2: Item ID: B00XAWUP96, Predicted Rating: 4.00\n",
      "  Recommendation 3: Item ID: B00XAWUP96, Predicted Rating: 4.00\n",
      "User ID: 21666549\n",
      "  Recommendation 1: Item ID: B004POJT5O, Predicted Rating: 1.00\n",
      "  Recommendation 2: Item ID: B004POJT5O, Predicted Rating: 1.00\n",
      "User ID: 122552\n",
      "  Recommendation 1: Item ID: B010BZ6H14, Predicted Rating: 5.00\n",
      "  Recommendation 2: Item ID: B010BZ6H14, Predicted Rating: 5.00\n",
      "User ID: 5964071\n",
      "  Recommendation 1: Item ID: B00SU7JRD6, Predicted Rating: 4.94\n",
      "  Recommendation 2: Item ID: B00SU7JRD6, Predicted Rating: 4.94\n",
      "  Recommendation 3: Item ID: B00XQJKDQI, Predicted Rating: 4.83\n",
      "  Recommendation 4: Item ID: B00XQJKDQI, Predicted Rating: 4.83\n",
      "  Recommendation 5: Item ID: B00XQJKDQI, Predicted Rating: 4.83\n",
      "User ID: 32524231\n",
      "  Recommendation 1: Item ID: B030LQ4K, Predicted Rating: 5.00\n",
      "  Recommendation 2: Item ID: B00MV4J6US, Predicted Rating: 4.93\n",
      "User ID: 25668224\n",
      "  Recommendation 1: Item ID: B00BXJ1TXY, Predicted Rating: 4.90\n",
      "  Recommendation 2: Item ID: B00BXJ1TXY, Predicted Rating: 4.90\n",
      "User ID: 158183\n",
      "  Recommendation 1: Item ID: B00QKOH4ZE, Predicted Rating: 1.84\n",
      "  Recommendation 2: Item ID: B00QKOH4ZE, Predicted Rating: 1.84\n",
      "User ID: 19402709\n",
      "  Recommendation 1: Item ID: B00TV315E2, Predicted Rating: 2.96\n",
      "  Recommendation 2: Item ID: B00TV315E2, Predicted Rating: 2.96\n",
      "User ID: 11368983\n",
      "  Recommendation 1: Item ID: B00S5HHKBW, Predicted Rating: 3.86\n",
      "  Recommendation 2: Item ID: B00S5HHKBW, Predicted Rating: 3.86\n",
      "User ID: 843326\n",
      "  Recommendation 1: Item ID: B00U8F8VGC, Predicted Rating: 1.88\n",
      "  Recommendation 2: Item ID: B00U8F8VGC, Predicted Rating: 1.88\n",
      "  Recommendation 3: Item ID: B00U8F8VGC, Predicted Rating: 1.88\n",
      "User ID: 38675214\n",
      "  Recommendation 1: Item ID: B002GZRRGC, Predicted Rating: 2.10\n",
      "  Recommendation 2: Item ID: B002GZRRGC, Predicted Rating: 2.10\n",
      "  Recommendation 3: Item ID: B002GZRRGC, Predicted Rating: 2.10\n",
      "User ID: 18147\n",
      "  Recommendation 1: Item ID: B01W5PUH100, Predicted Rating: 2.74\n",
      "  Recommendation 2: Item ID: B00PX4ID98, Predicted Rating: 1.07\n",
      "User ID: 34428760\n",
      "  Recommendation 1: Item ID: B00GC3FQO4, Predicted Rating: 4.98\n",
      "  Recommendation 2: Item ID: B00GC3FQO4, Predicted Rating: 4.98\n",
      "  Recommendation 3: Item ID: B00GC3FQO4, Predicted Rating: 4.98\n",
      "  Recommendation 4: Item ID: B00GC3FQO4, Predicted Rating: 4.98\n",
      "User ID: 32176919\n",
      "  Recommendation 1: Item ID: B00DGNJIWY, Predicted Rating: 4.91\n",
      "  Recommendation 2: Item ID: B00DGNJIWY, Predicted Rating: 4.91\n",
      "  Recommendation 3: Item ID: B00DGNJIWY, Predicted Rating: 4.91\n",
      "User ID: 53085545\n",
      "  Recommendation 1: Item ID: B00IU0721C, Predicted Rating: 4.06\n",
      "  Recommendation 2: Item ID: B00IU0721C, Predicted Rating: 4.06\n",
      "User ID: 43536220\n",
      "  Recommendation 1: Item ID: B004XJDW2W, Predicted Rating: 3.89\n",
      "  Recommendation 2: Item ID: B004XJDW2W, Predicted Rating: 3.89\n",
      "  Recommendation 3: Item ID: B004XJDW2W, Predicted Rating: 3.89\n",
      "User ID: 10646870\n",
      "  Recommendation 1: Item ID: B00GUGNOME, Predicted Rating: 3.99\n",
      "  Recommendation 2: Item ID: B00GUGNOME, Predicted Rating: 3.99\n",
      "  Recommendation 3: Item ID: B00GUGNOME, Predicted Rating: 3.99\n",
      "  Recommendation 4: Item ID: B00GUGNOME, Predicted Rating: 3.99\n",
      "  Recommendation 5: Item ID: B00GUGNOME, Predicted Rating: 3.99\n",
      "User ID: 46501597\n",
      "  Recommendation 1: Item ID: B00QHAIASQ, Predicted Rating: 4.88\n",
      "User ID: 50823959\n",
      "  Recommendation 1: Item ID: B0064BYT1A, Predicted Rating: 4.93\n",
      "  Recommendation 2: Item ID: B0064BYT1A, Predicted Rating: 4.93\n",
      "  Recommendation 3: Item ID: B0064BYT1A, Predicted Rating: 4.93\n",
      "  Recommendation 4: Item ID: B0064BYT1A, Predicted Rating: 4.93\n",
      "User ID: 11294895\n",
      "  Recommendation 1: Item ID: B0098SEP2E, Predicted Rating: 5.00\n",
      "  Recommendation 2: Item ID: B0044CYF1, Predicted Rating: 4.52\n",
      "User ID: 34395929\n",
      "  Recommendation 1: Item ID: B007CM0YVO, Predicted Rating: 3.92\n",
      "  Recommendation 2: Item ID: B007CM0YVO, Predicted Rating: 3.92\n",
      "User ID: 995588\n",
      "  Recommendation 1: Item ID: B007A3KQ6I, Predicted Rating: 1.00\n",
      "  Recommendation 2: Item ID: B007A3KQ6I, Predicted Rating: 1.00\n",
      "User ID: 2176047\n",
      "  Recommendation 1: Item ID: B010NA04GG, Predicted Rating: 1.96\n",
      "User ID: 23493178\n",
      "  Recommendation 1: Item ID: B00AJ2VU8A, Predicted Rating: 4.95\n",
      "  Recommendation 2: Item ID: B00AJ2VU8A, Predicted Rating: 4.95\n",
      "  Recommendation 3: Item ID: B002JQXU, Predicted Rating: 4.19\n",
      "User ID: 21210928\n",
      "  Recommendation 1: Item ID: B00UO8UD4Q, Predicted Rating: 5.00\n",
      "  Recommendation 2: Item ID: B00UO8UD4Q, Predicted Rating: 5.00\n",
      "  Recommendation 3: Item ID: B00UO8UD4Q, Predicted Rating: 5.00\n",
      "User ID: 24103435\n",
      "  Recommendation 1: Item ID: B00B2DO2JO, Predicted Rating: 5.00\n",
      "User ID: 42880959\n",
      "  Recommendation 1: Item ID: B00SODKBFE, Predicted Rating: 3.24\n",
      "  Recommendation 2: Item ID: B00SODKBFE, Predicted Rating: 3.24\n",
      "  Recommendation 3: Item ID: B00SODKBFE, Predicted Rating: 3.24\n",
      "User ID: 37930676\n",
      "  Recommendation 1: Item ID: B00JWABJRC, Predicted Rating: 4.96\n",
      "User ID: 38430946\n",
      "  Recommendation 1: Item ID: B00MMJ5RX2, Predicted Rating: 3.99\n",
      "  Recommendation 2: Item ID: B00MMJ5RX2, Predicted Rating: 3.99\n",
      "  Recommendation 3: Item ID: B0V3C6XY, Predicted Rating: 3.62\n",
      "  Recommendation 4: Item ID: B0V3C6XY, Predicted Rating: 3.62\n",
      "  Recommendation 5: Item ID: B00PZSM384, Predicted Rating: 2.95\n",
      "User ID: 127508\n",
      "  Recommendation 1: Item ID: B00JP4XCSO, Predicted Rating: 1.00\n",
      "User ID: 45953170\n",
      "  Recommendation 1: Item ID: B00SZJFPJY, Predicted Rating: 3.78\n",
      "User ID: 16265495\n",
      "  Recommendation 1: Item ID: B010EJPWX6, Predicted Rating: 5.00\n",
      "  Recommendation 2: Item ID: B010EJPWX6, Predicted Rating: 5.00\n",
      "  Recommendation 3: Item ID: B010EJPWX6, Predicted Rating: 5.00\n",
      "  Recommendation 4: Item ID: B010EJPWX6, Predicted Rating: 5.00\n",
      "User ID: 10031108\n",
      "  Recommendation 1: Item ID: B00B28GV3, Predicted Rating: 4.51\n",
      "  Recommendation 2: Item ID: B00GU82FQS, Predicted Rating: 4.10\n",
      "  Recommendation 3: Item ID: B00GU82FQS, Predicted Rating: 4.10\n",
      "  Recommendation 4: Item ID: B00GU82FQS, Predicted Rating: 4.10\n",
      "  Recommendation 5: Item ID: B00GU82FQS, Predicted Rating: 4.10\n",
      "User ID: 6339817\n",
      "  Recommendation 1: Item ID: B00CHMBKVC, Predicted Rating: 4.88\n",
      "  Recommendation 2: Item ID: B00CHMBKVC, Predicted Rating: 4.88\n",
      "  Recommendation 3: Item ID: B00CHMBKVC, Predicted Rating: 4.88\n",
      "User ID: 16847128\n",
      "  Recommendation 1: Item ID: B00YRYXNMC, Predicted Rating: 1.14\n",
      "  Recommendation 2: Item ID: B00YRYXNMC, Predicted Rating: 1.14\n",
      "  Recommendation 3: Item ID: B00YRYXNMC, Predicted Rating: 1.14\n",
      "  Recommendation 4: Item ID: B00YRYXNMC, Predicted Rating: 1.14\n",
      "User ID: 33095631\n",
      "  Recommendation 1: Item ID: B005T3ITD8, Predicted Rating: 2.04\n",
      "  Recommendation 2: Item ID: B005T3ITD8, Predicted Rating: 2.04\n",
      "User ID: 41583822\n",
      "  Recommendation 1: Item ID: B00UMGXJJQ, Predicted Rating: 4.87\n",
      "User ID: 2370481\n",
      "  Recommendation 1: Item ID: B00CHUV02S, Predicted Rating: 4.89\n",
      "User ID: 488280\n",
      "  Recommendation 1: Item ID: B00RICIN3O, Predicted Rating: 4.01\n",
      "  Recommendation 2: Item ID: B00RICIN3O, Predicted Rating: 4.01\n",
      "  Recommendation 3: Item ID: B00RICIN3O, Predicted Rating: 4.01\n",
      "User ID: 28509288\n",
      "  Recommendation 1: Item ID: B010EWIJ10, Predicted Rating: 5.00\n",
      "  Recommendation 2: Item ID: B010EWIJ10, Predicted Rating: 5.00\n",
      "  Recommendation 3: Item ID: B010EWIJ10, Predicted Rating: 5.00\n",
      "User ID: 12555975\n",
      "  Recommendation 1: Item ID: B00X12S0ZQ, Predicted Rating: 4.90\n",
      "  Recommendation 2: Item ID: B00X12S0ZQ, Predicted Rating: 4.90\n",
      "  Recommendation 3: Item ID: B00X12S0ZQ, Predicted Rating: 4.90\n",
      "  Recommendation 4: Item ID: B00X12S0ZQ, Predicted Rating: 4.90\n",
      "User ID: 52535937\n",
      "  Recommendation 1: Item ID: B00U20YB44, Predicted Rating: 5.00\n",
      "  Recommendation 2: Item ID: B00U20YB44, Predicted Rating: 5.00\n",
      "  Recommendation 3: Item ID: B00U20YB44, Predicted Rating: 5.00\n",
      "  Recommendation 4: Item ID: B00U20YB44, Predicted Rating: 5.00\n",
      "User ID: 30978102\n",
      "  Recommendation 1: Item ID: B00449ZF4O, Predicted Rating: 2.92\n",
      "User ID: 620244\n",
      "  Recommendation 1: Item ID: B00C9UJ76M, Predicted Rating: 4.87\n",
      "  Recommendation 2: Item ID: B00C9UJ76M, Predicted Rating: 4.87\n",
      "  Recommendation 3: Item ID: B00C9UJ76M, Predicted Rating: 4.87\n",
      "User ID: 2930509\n",
      "  Recommendation 1: Item ID: B00LVANWTO, Predicted Rating: 5.00\n",
      "  Recommendation 2: Item ID: B00LVANWTO, Predicted Rating: 5.00\n",
      "  Recommendation 3: Item ID: B00KDAUN3KU, Predicted Rating: 4.25\n",
      "User ID: 4901333\n",
      "  Recommendation 1: Item ID: B00WH5FMW2, Predicted Rating: 1.00\n",
      "  Recommendation 2: Item ID: B00WH5FMW2, Predicted Rating: 1.00\n",
      "  Recommendation 3: Item ID: B00WH5FMW2, Predicted Rating: 1.00\n",
      "User ID: 34660670\n",
      "  Recommendation 1: Item ID: B005DJBQV0, Predicted Rating: 4.82\n",
      "  Recommendation 2: Item ID: B01N9Y6JXLT, Predicted Rating: 4.15\n",
      "User ID: 936258\n",
      "  Recommendation 1: Item ID: B00Y1X0EQR, Predicted Rating: 4.10\n",
      "  Recommendation 2: Item ID: B00QSLYHGI, Predicted Rating: 4.05\n",
      "  Recommendation 3: Item ID: B00QSLYHGI, Predicted Rating: 4.05\n",
      "  Recommendation 4: Item ID: B00QSLYHGI, Predicted Rating: 4.05\n",
      "User ID: 664003\n",
      "  Recommendation 1: Item ID: B00MN6TAA0, Predicted Rating: 4.98\n",
      "User ID: 13606507\n",
      "  Recommendation 1: Item ID: B00V8R2GZ4, Predicted Rating: 3.42\n",
      "  Recommendation 2: Item ID: B002JAGEH2, Predicted Rating: 2.33\n",
      "  Recommendation 3: Item ID: B002JAGEH2, Predicted Rating: 2.33\n",
      "  Recommendation 4: Item ID: B002JAGEH2, Predicted Rating: 2.33\n",
      "  Recommendation 5: Item ID: B002JAGEH2, Predicted Rating: 2.33\n",
      "User ID: 14765851\n",
      "  Recommendation 1: Item ID: B00KT8TDB0, Predicted Rating: 4.90\n",
      "User ID: 42202962\n",
      "  Recommendation 1: Item ID: B00L2I544G, Predicted Rating: 4.90\n",
      "  Recommendation 2: Item ID: B00L2I544G, Predicted Rating: 4.90\n",
      "  Recommendation 3: Item ID: B00L2I544G, Predicted Rating: 4.90\n",
      "  Recommendation 4: Item ID: B00L2I544G, Predicted Rating: 4.90\n",
      "User ID: 46789906\n",
      "  Recommendation 1: Item ID: B00KQ4FEQ0, Predicted Rating: 4.96\n",
      "User ID: 34608636\n",
      "  Recommendation 1: Item ID: B00THLHAGA, Predicted Rating: 4.96\n",
      "  Recommendation 2: Item ID: B00THLHAGA, Predicted Rating: 4.96\n",
      "  Recommendation 3: Item ID: B00THLHAGA, Predicted Rating: 4.96\n",
      "User ID: 5350721\n",
      "  Recommendation 1: Item ID: B0006SW2WU, Predicted Rating: 5.00\n",
      "  Recommendation 2: Item ID: B0006SW2WU, Predicted Rating: 5.00\n",
      "User ID: 457767\n",
      "  Recommendation 1: Item ID: B00QGA8XZM, Predicted Rating: 4.96\n",
      "User ID: 16684508\n",
      "  Recommendation 1: Item ID: B00XGRYGVS, Predicted Rating: 1.00\n",
      "  Recommendation 2: Item ID: B00XGRYGVS, Predicted Rating: 1.00\n",
      "User ID: 1468500\n",
      "  Recommendation 1: Item ID: B0064MB44E, Predicted Rating: 2.00\n",
      "  Recommendation 2: Item ID: B0064MB44E, Predicted Rating: 2.00\n",
      "  Recommendation 3: Item ID: B0064MB44E, Predicted Rating: 2.00\n",
      "User ID: 14522766\n",
      "  Recommendation 1: Item ID: B00GINHC1I, Predicted Rating: 4.92\n",
      "  Recommendation 2: Item ID: B00GINHC1I, Predicted Rating: 4.92\n",
      "  Recommendation 3: Item ID: B098R0SSI, Predicted Rating: 4.71\n",
      "User ID: 7034628\n",
      "  Recommendation 1: Item ID: B00DMWQKWA, Predicted Rating: 4.94\n",
      "User ID: 52534435\n",
      "  Recommendation 1: Item ID: B0073LMQYW, Predicted Rating: 4.98\n",
      "User ID: 899071\n",
      "  Recommendation 1: Item ID: B00AVZR1R4, Predicted Rating: 1.00\n",
      "User ID: 2612301\n",
      "  Recommendation 1: Item ID: B004SHZFCO, Predicted Rating: 4.99\n",
      "User ID: 27541121\n",
      "  Recommendation 1: Item ID: B00M2L6KFY, Predicted Rating: 4.90\n",
      "User ID: 1200708\n",
      "  Recommendation 1: Item ID: B0089SS39A, Predicted Rating: 5.00\n",
      "User ID: 18238567\n",
      "  Recommendation 1: Item ID: B00MD99R9G, Predicted Rating: 4.90\n"
     ]
    }
   ],
   "source": [
    "# Recommendations according to its rating user-->\n",
    "\n",
    "# Make predictions\n",
    "predictions = model.predict([test_data['user'], test_data['item']])\n",
    "\n",
    "# Convert predictions back to original ratings\n",
    "predictions = np.clip(predictions, 1, 5)  # Clip predictions to rating range\n",
    "\n",
    "# Map encoded user and item IDs back to their original values\n",
    "decoded_users = user_encoder.inverse_transform(test_data['user'])\n",
    "decoded_items = item_encoder.inverse_transform(test_data['item'])\n",
    "\n",
    "# Create a dictionary to store user recommendations\n",
    "user_recommendations = {}\n",
    "\n",
    "# Populate user recommendations\n",
    "for i in range(len(test_data)):\n",
    "    user_id = decoded_users[i]\n",
    "    item_id = decoded_items[i]\n",
    "    predicted_rating = predictions[i][0]\n",
    "    \n",
    "    if user_id not in user_recommendations:\n",
    "        user_recommendations[user_id] = []\n",
    "    \n",
    "    user_recommendations[user_id].append((item_id, predicted_rating))\n",
    "\n",
    "# Sort recommended items for each user by predicted rating\n",
    "for user_id, recommendations in user_recommendations.items():\n",
    "    recommendations.sort(key=lambda x: x[1], reverse=True)\n",
    "\n",
    "# Print top N recommendations for each user\n",
    "top_n = 5  # Number of top recommendations to show\n",
    "for user_id, recommendations in user_recommendations.items():\n",
    "    print(f\"User ID: {user_id}\")\n",
    "    num_recommendations = min(len(recommendations), top_n)  # Ensure not to go out of index\n",
    "    for i in range(num_recommendations):\n",
    "        item_id, predicted_rating = recommendations[i]\n",
    "        print(f\"  Recommendation {i + 1}: Item ID: {item_id}, Predicted Rating: {predicted_rating:.2f}\")\n"
   ]
  },
  {
   "cell_type": "code",
   "execution_count": 29,
   "id": "e39ff1e8",
   "metadata": {
    "execution": {
     "iopub.execute_input": "2023-08-17T00:25:04.227877Z",
     "iopub.status.busy": "2023-08-17T00:25:04.227514Z",
     "iopub.status.idle": "2023-08-17T00:25:04.269519Z",
     "shell.execute_reply": "2023-08-17T00:25:04.268549Z"
    },
    "papermill": {
     "duration": 0.081974,
     "end_time": "2023-08-17T00:25:04.271937",
     "exception": false,
     "start_time": "2023-08-17T00:25:04.189963",
     "status": "completed"
    },
    "tags": []
   },
   "outputs": [],
   "source": [
    "model.save('/kaggle/working/AugJewelry.h5')"
   ]
  },
  {
   "cell_type": "code",
   "execution_count": null,
   "id": "a8563b7e",
   "metadata": {
    "papermill": {
     "duration": 0.036361,
     "end_time": "2023-08-17T00:25:04.345182",
     "exception": false,
     "start_time": "2023-08-17T00:25:04.308821",
     "status": "completed"
    },
    "scrolled": true,
    "tags": []
   },
   "outputs": [],
   "source": []
  }
 ],
 "metadata": {
  "kernelspec": {
   "display_name": "Python 3",
   "language": "python",
   "name": "python3"
  },
  "language_info": {
   "codemirror_mode": {
    "name": "ipython",
    "version": 3
   },
   "file_extension": ".py",
   "mimetype": "text/x-python",
   "name": "python",
   "nbconvert_exporter": "python",
   "pygments_lexer": "ipython3",
   "version": "3.10.12"
  },
  "papermill": {
   "default_parameters": {},
   "duration": 48.754459,
   "end_time": "2023-08-17T00:25:07.474627",
   "environment_variables": {},
   "exception": null,
   "input_path": "__notebook__.ipynb",
   "output_path": "__notebook__.ipynb",
   "parameters": {},
   "start_time": "2023-08-17T00:24:18.720168",
   "version": "2.4.0"
  }
 },
 "nbformat": 4,
 "nbformat_minor": 5
}
